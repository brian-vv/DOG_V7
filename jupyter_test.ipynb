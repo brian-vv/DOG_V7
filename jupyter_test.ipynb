{
 "cells": [
  {
   "cell_type": "code",
   "execution_count": 1,
   "metadata": {},
   "outputs": [
    {
     "name": "stdout",
     "output_type": "stream",
     "text": [
      "      Id,DateOfBite,SpayNeuter,ZipCode,Unique Dog ID,AnimalBirthMonth,\n",
      "0      1,January 02 2015,true,11238,CONEY-M-2011/1002...              \n",
      "1      2,January 02 2015,false,11249,PENNY-F-2004/111...              \n",
      "2      3,January 02 2015,false,11249,SHILOH-M-2013/10...              \n",
      "3      4,January 01 2015,false,11221,MONTE-M-2004/112...              \n",
      "4      5,January 03 2015,false,11207,PAISLEY-F-2012/1...              \n",
      "...                                                  ...              \n",
      "10275  10276,December 24 2017,true,10303,SACHE-M-2006...              \n",
      "10276  10277,December 24 2017,true,10303,ANAHEIM-F-20...              \n",
      "10277  10278,December 21 2017,true,10312,TOROF-M-2017...              \n",
      "10278  10279,December 28 2017,false,10308,WIFI-F-2016...              \n",
      "10279  10280,December 29 2017,false,10314,BUDDY-M-201...              \n",
      "\n",
      "[10280 rows x 1 columns]\n"
     ]
    }
   ],
   "source": [
    "import pandas as pd\n",
    "import numpy as np\n",
    "import plotly.graph_objs as go\n",
    "from datetime import datetime\n",
    "from calendar import month_name\n",
    "import geopandas as gpd\n",
    "import os\n",
    "\n",
    "\n",
    "\n",
    "data_morsures = pd.read_csv('datas/DOHMH_Dog_Bite_Data.csv', sep=\";\")\n",
    "print(data_morsures)\n",
    "\n",
    "\n"
   ]
  },
  {
   "cell_type": "code",
   "execution_count": 14,
   "metadata": {},
   "outputs": [
    {
     "ename": "NameError",
     "evalue": "name 'data' is not defined",
     "output_type": "error",
     "traceback": [
      "\u001b[1;31m---------------------------------------------------------------------------\u001b[0m",
      "\u001b[1;31mNameError\u001b[0m                                 Traceback (most recent call last)",
      "Cell \u001b[1;32mIn[14], line 1\u001b[0m\n\u001b[1;32m----> 1\u001b[0m TotalBite \u001b[39m=\u001b[39m data[\u001b[39m'\u001b[39m\u001b[39mYearsOfBite\u001b[39m\u001b[39m'\u001b[39m]\u001b[39m.\u001b[39mvalue_counts()\n\u001b[0;32m      2\u001b[0m \u001b[39mprint\u001b[39m(TotalBite)\n",
      "\u001b[1;31mNameError\u001b[0m: name 'data' is not defined"
     ]
    }
   ],
   "source": [
    "TotalBite = data_morsures['YearsOfBite'].value_counts()\n",
    "print(TotalBite)"
   ]
  },
  {
   "cell_type": "code",
   "execution_count": null,
   "metadata": {},
   "outputs": [
    {
     "name": "stdout",
     "output_type": "stream",
     "text": [
      "   YearsOfBite MonthsOfBite  counts  month_num\n",
      "4         2015      January     201          1\n",
      "3         2015     February     206          2\n",
      "7         2015        March     241          3\n",
      "0         2015        April     304          4\n",
      "8         2015          May     368          5\n",
      "6         2015         June     351          6\n",
      "5         2015         July     378          7\n",
      "1         2015       August     374          8\n",
      "11        2015    September     303          9\n",
      "10        2015      October     258         10\n",
      "9         2015     November     288         11\n",
      "2         2015     December     285         12\n",
      "16        2016      January     243          1\n",
      "15        2016     February     206          2\n",
      "19        2016        March     228          3\n",
      "12        2016        April     308          4\n",
      "20        2016          May     313          5\n",
      "18        2016         June     280          6\n",
      "17        2016         July     297          7\n",
      "13        2016       August     333          8\n",
      "23        2016    September     294          9\n",
      "22        2016      October     250         10\n",
      "21        2016     November     239         11\n",
      "14        2016     December     221         12\n",
      "28        2017      January     214          1\n",
      "27        2017     February     239          2\n",
      "31        2017        March     254          3\n",
      "24        2017        April     286          4\n",
      "32        2017          May     306          5\n",
      "30        2017         June     367          6\n",
      "29        2017         July     394          7\n",
      "25        2017       August     357          8\n",
      "35        2017    September     328          9\n",
      "34        2017      October     281         10\n",
      "33        2017     November     242         11\n",
      "26        2017     December     243         12\n"
     ]
    }
   ],
   "source": [
    "grouped_data = data_morsures.groupby(['YearsOfBite','MonthsOfBite']).size().reset_index(name='counts')\n",
    "\n",
    "# convertir les mois en type \"datetime\" en utilisant le format \"MM\" pour les mois\n",
    "grouped_data['MonthsOfBite']= pd.to_datetime(grouped_data['MonthsOfBite'],format='%B')\n",
    "\n",
    "# ajouter une colonne pour les mois sous forme de nombre\n",
    "grouped_data[\"month_num\"] = grouped_data[\"MonthsOfBite\"].dt.month\n",
    "\n",
    "# transformer les numéros de mois en lettres\n",
    "month_name = [\"January\",\"February\",\"March\",\"April\",\"May\",\"June\",\"July\",\n",
    "              \"August\",\"September\",\"October\",\"November\",\"December\"]\n",
    "grouped_data['MonthsOfBite']= grouped_data['month_num'].apply(lambda x: month_name[x-1] if x>0 and x<=12 else \"NA\")\n",
    "\n",
    "\n",
    "# Trier les données en utilisant la colonne 'month_num' pour les trier dans l'ordre d'un calendrier\n",
    "grouped_data = grouped_data.sort_values(by=['YearsOfBite','month_num'],ascending=[True,True])\n",
    "\n",
    "print(grouped_data)\n"
   ]
  },
  {
   "cell_type": "code",
   "execution_count": 12,
   "metadata": {},
   "outputs": [
    {
     "name": "stdout",
     "output_type": "stream",
     "text": [
      "2015    3557\n",
      "2017    3511\n",
      "2016    3212\n",
      "Name: YearsOfBite, dtype: int64\n"
     ]
    }
   ],
   "source": [
    "TotalBite = data_morsures['YearsOfBite'].value_counts()\n",
    "print(TotalBite)"
   ]
  },
  {
   "cell_type": "code",
   "execution_count": 34,
   "metadata": {},
   "outputs": [
    {
     "name": "stdout",
     "output_type": "stream",
     "text": [
      "YearsLicenceIssue\n",
      "2015     42430\n",
      "2016    119058\n",
      "2017    110995\n",
      "dtype: int64\n"
     ]
    }
   ],
   "source": [
    "import pandas as pd\n",
    "import numpy as np\n",
    "import plotly.graph_objs as go\n",
    "from datetime import datetime\n",
    "from calendar import month_name\n",
    "import geopandas as gpd\n",
    "import os\n",
    "\n",
    "\n",
    "data_licences = pd.read_csv('datas/NYC_Dog_Licensing_Dataset_modified.csv', sep=\";\")\n",
    "\n",
    "data_licences[['DaysLicenceIssue', 'MonthsLicenceIssue', 'YearsLicenceIssue']] = data_licences.LicenseIssuedDate.str.split(\"/\", expand = True)\n",
    "\n",
    "count_licences = data_licences[data_licences['YearsLicenceIssue'].isin(['2015','2016','2017'])].groupby('YearsLicenceIssue').size()\n",
    "print(count_licences)\n",
    "\n",
    "#grouped = data_licences.groupby('YearsLicenceIssue')\n",
    "#counts = grouped['YearsLicenceIssue'].count()\n",
    "#counts_2015_2017 = counts.loc[['2015', '2016', '2017']]\n",
    "#print(grouped)\n",
    "\n"
   ]
  },
  {
   "cell_type": "code",
   "execution_count": 27,
   "metadata": {},
   "outputs": [
    {
     "name": "stdout",
     "output_type": "stream",
     "text": [
      "                                BreedName  Count\n",
      "294                               Unknown  30137\n",
      "309                     Yorkshire Terrier  17417\n",
      "269                              Shih Tzu  15496\n",
      "79                              Chihuahua  12570\n",
      "183                               Maltese   9061\n",
      "175                    Labrador Retriever   9038\n",
      "13   American Pit Bull Mix / Pit Bull Mix   8402\n",
      "14     American Pit Bull Terrier/Pit Bull   6972\n",
      "176         Labrador Retriever Crossbreed   6559\n",
      "226                            Pomeranian   5015\n"
     ]
    }
   ],
   "source": [
    "import pandas as pd\n",
    "import numpy as np\n",
    "import plotly.graph_objs as go\n",
    "from datetime import datetime\n",
    "from calendar import month_name\n",
    "import geopandas as gpd\n",
    "import os\n",
    "\n",
    "\n",
    "data_licences = pd.read_csv('datas/NYC_Dog_Licensing_Dataset.csv', sep=\";\")\n",
    "\n",
    "data_licences[['DaysLicenceIssue', 'MonthsLicenceIssue', 'YearsLicenceIssue']] = data_licences.LicenseIssuedDate.str.split(\"/\", expand = True)\n",
    "\n",
    "count_breed = data_licences[data_licences['YearsLicenceIssue'].isin(['2015','2016','2017'])].groupby(['BreedName']).size().reset_index(name='Count')\n",
    "\n",
    "count_breed = count_breed.nlargest(10, 'Count')\n",
    "\n",
    "print(count_breed)"
   ]
  },
  {
   "cell_type": "code",
   "execution_count": 33,
   "metadata": {},
   "outputs": [
    {
     "name": "stdout",
     "output_type": "stream",
     "text": [
      "YearsLicenceIssue\n",
      "2014    146\n",
      "2015    268\n",
      "2016    292\n",
      "2017    298\n",
      "2018    305\n",
      "2019    313\n",
      "2020    314\n",
      "2021    241\n",
      "Name: BreedName, dtype: int64\n"
     ]
    }
   ],
   "source": [
    "import pandas as pd\n",
    "import numpy as np\n",
    "import plotly.graph_objs as go\n",
    "from datetime import datetime\n",
    "from calendar import month_name\n",
    "import geopandas as gpd\n",
    "import os\n",
    "\n",
    "\n",
    "data_licences = pd.read_csv('datas/NYC_Dog_Licensing_Dataset.csv', sep=\";\")\n",
    "\n",
    "data_licences[['DaysLicenceIssue', 'MonthsLicenceIssue', 'YearsLicenceIssue']] = data_licences.LicenseIssuedDate.str.split(\"/\", expand = True)\n",
    "\n",
    "#count_breed = data_licences[data_licences['YearsLicenceIssue'].isin(['2015','2016','2017'])].groupby(['BreedName', 'YearsLicenceIssue']).size().reset_index(name='Count')\n",
    "\n",
    "\n",
    "unique_breed_counts = data_licences.groupby(\"YearsLicenceIssue\")[\"BreedName\"].nunique()\n",
    "\n",
    "print(unique_breed_counts)\n"
   ]
  },
  {
   "cell_type": "code",
   "execution_count": 40,
   "metadata": {},
   "outputs": [
    {
     "name": "stdout",
     "output_type": "stream",
     "text": [
      "                         BreedName AnimalGender YearsOfBite  count\n",
      "0                    Affenpinscher            M        2015      1\n",
      "1                    Affenpinscher            M        2016      2\n",
      "2                    Affenpinscher            M        2017      1\n",
      "3                 Airedale Terrier            F        2015      3\n",
      "4                 Airedale Terrier            F        2017      1\n",
      "...                            ...          ...         ...    ...\n",
      "1018  Yorkshire Terrier Crossbreed            F        2016     11\n",
      "1019  Yorkshire Terrier Crossbreed            F        2017     17\n",
      "1020  Yorkshire Terrier Crossbreed            M        2015     17\n",
      "1021  Yorkshire Terrier Crossbreed            M        2016     18\n",
      "1022  Yorkshire Terrier Crossbreed            M        2017     19\n",
      "\n",
      "[1023 rows x 4 columns]\n"
     ]
    }
   ],
   "source": [
    "data_morsures = pd.read_csv('datas/DOHMH_Dog_Bite_Data.csv')\n",
    "data_Licenses = pd.read_csv('datas/NYC_Dog_Licensing_Dataset.csv', sep=\";\")\n",
    "\n",
    "join_data = pd.merge(data_morsures, data_Licenses, on='Unique Dog ID')\n",
    "\n",
    "join_data[['MonthsOfBite', 'DaysOfBite', 'YearsOfBite']] = join_data.DateOfBite.str.split(\" \", expand = True)\n",
    "\n",
    "joined_data = join_data.groupby(['BreedName', 'AnimalGender', 'YearsOfBite'])['Unique Dog ID'].count().reset_index(name='count')\n",
    "\n",
    "print(joined_data)"
   ]
  },
  {
   "cell_type": "code",
   "execution_count": 23,
   "metadata": {},
   "outputs": [
    {
     "name": "stdout",
     "output_type": "stream",
     "text": [
      "     ZipCode  Count\n",
      "0      10001     19\n",
      "1      10002     78\n",
      "2      10003     78\n",
      "3      10004      8\n",
      "4      10005      6\n",
      "..       ...    ...\n",
      "255    11793      1\n",
      "256    11801      1\n",
      "257    11875      1\n",
      "258    11951      1\n",
      "259    11967      1\n",
      "\n",
      "[260 rows x 2 columns]\n"
     ]
    }
   ],
   "source": [
    "\n",
    "data_morsures = pd.read_csv('datas/DOHMH_Dog_Bite_Data.csv')\n",
    "data_morsures[['MonthsOfBite', 'DaysOfBite', 'YearsOfBite']] = join_data.DateOfBite.str.split(\" \", expand = True)\n",
    "bite_per_park = data_morsures.groupby(['ZipCode']).size().reset_index(name='Count').nlargest(10, 'Count')\n",
    "\n",
    "print(bite_per_park)"
   ]
  },
  {
   "cell_type": "code",
   "execution_count": 60,
   "metadata": {},
   "outputs": [
    {
     "name": "stdout",
     "output_type": "stream",
     "text": [
      "    ZipCode  count  Longitude   Latitude\n",
      "0     10002     32 -73.993491  40.711170\n",
      "1     10003     30 -73.990957  40.735392\n",
      "2     10007      3 -74.012270  40.716181\n",
      "3     10009     44 -73.981413  40.726453\n",
      "4     10010     12 -73.988779  40.742106\n",
      "5     10011     22 -73.997685  40.730225\n",
      "6     10017      4 -73.968820  40.748142\n",
      "7     10019     34 -73.994482  40.767700\n",
      "8     10022     18 -73.963813  40.753635\n",
      "9     10024     37 -73.973565  40.781973\n",
      "10    10026     24 -73.959027  40.804514\n",
      "11    10027     23 -73.943420  40.802826\n",
      "12    10028     39 -73.944020  40.773880\n",
      "13    10029     80 -73.935289  40.792015\n",
      "14    10031     22 -73.949288  40.817795\n",
      "15    10032     24 -73.945548  40.840698\n",
      "16    10033     18 -73.942181  40.846407\n",
      "17    10034     11 -73.921792  40.870858\n",
      "18    10038      5 -74.001646  40.709327\n",
      "19    10040     15 -73.931970  40.861950\n",
      "20    10065     29 -73.957067  40.760111\n",
      "21    10301     25 -74.092765  40.626703\n",
      "22    10307      4 -74.250174  40.500347\n",
      "23    10309     23 -74.211470  40.533577\n",
      "24    10312     47 -74.185032  40.520018\n",
      "25    10451     11 -73.926014  40.822998\n",
      "26    10454     18 -73.912216  40.809806\n",
      "27    10455     12 -73.898224  40.814957\n",
      "28    10463     21 -73.910231  40.882170\n",
      "29    10465     26 -73.821267  40.850532\n",
      "30    10467     38 -73.876142  40.877906\n",
      "31    10471     10 -73.916209  40.886553\n",
      "32    10473     31 -73.877484  40.818943\n",
      "33    11101     14 -73.960112  40.743400\n",
      "34    11104      7 -73.921796  40.747213\n",
      "35    11201     21 -73.988891  40.704413\n",
      "36    11206     19 -73.946983  40.706190\n",
      "37    11211     28 -73.953149  40.719957\n",
      "38    11215     41 -73.985809  40.672865\n",
      "39    11216     20 -73.947974  40.689905\n",
      "40    11218     17 -73.976191  40.649409\n",
      "41    11220     21 -74.035163  40.639943\n",
      "42    11222     23 -73.943918  40.723234\n",
      "43    11228     24 -74.021449  40.617455\n",
      "44    11231     25 -74.002424  40.681090\n",
      "45    11235     18 -73.942455  40.577891\n",
      "46    11237     25 -73.923201  40.703811\n",
      "47    11360      9 -73.792848  40.787944\n",
      "48    11373     23 -73.877740  40.742485\n",
      "49    11375     22 -73.844905  40.733666\n",
      "50    11377     34 -73.908521  40.745833\n",
      "51    11385     30 -73.860183  40.696915\n",
      "52    11423      6 -73.775583  40.726487\n",
      "53    11693      6 -73.808427  40.591528\n"
     ]
    }
   ],
   "source": [
    "import json\n",
    "\n",
    "\n",
    "data_park = open(\"datas/NYC Parks Dog Runs.geojson\")\n",
    "with data_park as park:\n",
    "    data = json.load(park)\n",
    "\n",
    "\n",
    "zipcodes = {}\n",
    "\n",
    "#bite_per_park = data_morsures.groupby(['ZipCode']).size().reset_index(name='Count')\n",
    "bite_per_park = data_morsures[data_morsures['YearsOfBite'].isin(['2017'])].groupby(['ZipCode']).size().reset_index(name='count')\n",
    "\n",
    "\n",
    "for feature in data['features']:\n",
    "    zipcode = feature['properties']['zipcode']\n",
    "    name = feature['properties']['name']\n",
    "    lon, lat = feature['geometry']['coordinates'][0][0][0]\n",
    "    zipcodes[zipcode] = [lon, lat]\n",
    "\n",
    "zipcodes_df = pd.DataFrame.from_dict(zipcodes, orient='index', columns=['Longitude', 'Latitude'])\n",
    "zipcodes_df = zipcodes_df.reset_index().rename(columns={'index': 'ZipCode'})\n",
    "\n",
    "bite_per_park['ZipCode'] = pd.to_numeric(bite_per_park['ZipCode'], errors='coerce')\n",
    "zipcodes_df['ZipCode'] = pd.to_numeric(zipcodes_df['ZipCode'], errors='coerce')\n",
    "\n",
    "bite_per_park = bite_per_park.dropna()\n",
    "zipcodes_df = zipcodes_df.dropna()\n",
    "\n",
    "bite_per_park['ZipCode'] = bite_per_park['ZipCode'].astype(int)\n",
    "zipcodes_df['ZipCode'] = zipcodes_df['ZipCode'].astype(int)\n",
    "\n",
    "\n",
    "result = pd.merge(bite_per_park, zipcodes_df, on='ZipCode')\n",
    "\n",
    "result = result.sort_values(by=['ZipCode'],ascending=[True])\n",
    "\n",
    "#result_sum = result.groupby(['YearsOfBite'])['Count'].sum().reset_index(name='TotalCount')\n",
    "\n",
    "\n",
    "\n",
    "print(result)"
   ]
  },
  {
   "cell_type": "code",
   "execution_count": 85,
   "metadata": {},
   "outputs": [
    {
     "name": "stdout",
     "output_type": "stream",
     "text": [
      "False    7289\n",
      "True     2991\n",
      "Name: SpayNeuter, dtype: int64\n"
     ]
    }
   ],
   "source": [
    "data_morsures = pd.read_csv('datas/DOHMH_Dog_Bite_Data.csv')\n",
    "\n",
    "spray_neuter = data_morsures['SpayNeuter'].value_counts()\n",
    "\n",
    "print(spray_neuter)\n"
   ]
  },
  {
   "cell_type": "code",
   "execution_count": 29,
   "metadata": {},
   "outputs": [
    {
     "name": "stdout",
     "output_type": "stream",
     "text": [
      "  YearsLicenseIssue  counts\n",
      "0              2015   42430\n",
      "1              2016  119058\n",
      "2              2017  110995\n"
     ]
    }
   ],
   "source": [
    "import pandas as pd\n",
    "import numpy as np\n",
    "import plotly.graph_objs as go\n",
    "from datetime import datetime\n",
    "from calendar import month_name\n",
    "import geopandas as gpd\n",
    "import os\n",
    "\n",
    "data_Licenses = pd.read_csv('datas/NYC_Dog_Licensing_Dataset.csv', sep=\";\")\n",
    "# Récupération des années de création de la License\n",
    "data_Licenses[['DaysLicenseIssue', 'MonthsLicenseIssue', 'YearsLicenseIssue']] = data_Licenses.LicenseIssuedDate.str.split(\"/\", expand = True)\n",
    "\n",
    "# Récupération des Licenses comprises entre 2015 et 2017, puis groupage dans une colonne counts\n",
    "count_Licenses = data_Licenses[data_Licenses['YearsLicenseIssue'].isin(['2015','2016','2017'])].groupby('YearsLicenseIssue').size().reset_index(name='counts')\n",
    "\n",
    "\n",
    "\n",
    "\n",
    "print(count_Licenses)\n"
   ]
  },
  {
   "cell_type": "code",
   "execution_count": 28,
   "metadata": {},
   "outputs": [
    {
     "name": "stdout",
     "output_type": "stream",
     "text": [
      "   SpayNeuter AnimalGender  count\n",
      "1       False            M   5354\n",
      "0       False            F   4769\n",
      "3        True            M   2232\n",
      "2        True            F   1907\n"
     ]
    }
   ],
   "source": [
    "data_morsures = pd.read_csv('datas/DOHMH_Dog_Bite_Data.csv')\n",
    "\n",
    "# Récupération des années et mois de morsures\n",
    "data_morsures[['MonthsOfBite', 'DaysOfBite', 'YearsOfBite']] = data_morsures.DateOfBite.str.split(\" \", expand = True)\n",
    "\n",
    "# Joindre les deux fichiers de données sur le champ 'id'\n",
    "join_data = pd.merge(data_morsures, data_Licenses, on='Unique Dog ID')\n",
    "\n",
    "# Récupération des années de morsures avec le nouveau fichier mergé\n",
    "join_data[['MonthsOfBite', 'DaysOfBite', 'YearsOfBite']] = join_data.DateOfBite.str.split(\" \", expand = True)\n",
    "\n",
    "# Grouper les données par race de chien et sexe\n",
    "joined_data = join_data.groupby(['SpayNeuter', 'AnimalGender'])['Unique Dog ID'].count().reset_index(name='count').nlargest(10, 'count')\n",
    "\n",
    "print(joined_data)"
   ]
  },
  {
   "cell_type": "code",
   "execution_count": 16,
   "metadata": {},
   "outputs": [
    {
     "name": "stdout",
     "output_type": "stream",
     "text": [
      "                                BreedName  count\n",
      "233                               Unknown   1852\n",
      "245                     Yorkshire Terrier    858\n",
      "216                              Shih Tzu    839\n",
      "68                              Chihuahua    670\n",
      "144                               Maltese    518\n",
      "139                    Labrador Retriever    444\n",
      "9    American Pit Bull Mix / Pit Bull Mix    379\n",
      "140         Labrador Retriever Crossbreed    328\n",
      "10     American Pit Bull Terrier/Pit Bull    311\n",
      "123                              Havanese    268\n"
     ]
    }
   ],
   "source": [
    "data_morsures = pd.read_csv('datas/DOHMH_Dog_Bite_Data.csv')\n",
    "\n",
    "# Récupération des années et mois de morsures\n",
    "data_morsures[['MonthsOfBite', 'DaysOfBite', 'YearsOfBite']] = data_morsures.DateOfBite.str.split(\" \", expand = True)\n",
    "\n",
    "# Joindre les deux fichiers de données sur le champ 'id'\n",
    "join_data = pd.merge(data_morsures, data_Licenses, on='Unique Dog ID')\n",
    "\n",
    "# Récupération des années de morsures avec le nouveau fichier mergé\n",
    "join_data[['MonthsOfBite', 'DaysOfBite', 'YearsOfBite']] = join_data.DateOfBite.str.split(\" \", expand = True)\n",
    "\n",
    "# Grouper les données par race de chien et sexe\n",
    "joined_data = join_data.groupby(['BreedName'])['Unique Dog ID'].count().reset_index(name='count').nlargest(10, 'count')\n",
    "\n",
    "print(joined_data)"
   ]
  },
  {
   "cell_type": "code",
   "execution_count": 8,
   "metadata": {},
   "outputs": [
    {
     "name": "stdout",
     "output_type": "stream",
     "text": [
      "    Age  count\n",
      "0     6     61\n",
      "1     7    157\n",
      "2     8    358\n",
      "3     9    389\n",
      "4    10    324\n",
      "5    11    314\n",
      "6    12    286\n",
      "7    13    245\n",
      "8    14    262\n",
      "9    15    253\n",
      "10   16    221\n",
      "11   17    180\n",
      "12   18    152\n",
      "13   19    117\n",
      "14   20     73\n",
      "15   21     48\n",
      "16   22     36\n",
      "17   23     24\n",
      "18   24      7\n",
      "19   25      3\n",
      "20   26      1\n"
     ]
    }
   ],
   "source": [
    "import pandas as pd\n",
    "import numpy as np\n",
    "import plotly.graph_objs as go\n",
    "from datetime import datetime\n",
    "from calendar import month_name\n",
    "import geopandas as gpd\n",
    "import os\n",
    "\n",
    "data_morsures = pd.read_csv('datas/DOHMH_Dog_Bite_Data.csv')\n",
    "\n",
    "data_morsures[['MonthsOfBite', 'DaysOfBite', 'YearsOfBite']] = data_morsures.DateOfBite.str.split(\" \", expand = True)\n",
    "\n",
    "data_morsures['Current_Year'] = datetime.now().year\n",
    "\n",
    "data_morsures['Age'] = data_morsures['Current_Year'] - data_morsures['AnimalBirthMonth']\n",
    "\n",
    "bite_per_age = data_morsures[data_morsures['YearsOfBite'].isin(['2017'])].groupby(\"Age\").size().reset_index(name='count')\n",
    "\n",
    "print(bite_per_age)"
   ]
  },
  {
   "cell_type": "code",
   "execution_count": 11,
   "metadata": {},
   "outputs": [
    {
     "name": "stdout",
     "output_type": "stream",
     "text": [
      "                                BreedName  count\n",
      "233                               Unknown    539\n",
      "216                              Shih Tzu    248\n",
      "245                     Yorkshire Terrier    248\n",
      "68                              Chihuahua    179\n",
      "144                               Maltese    139\n",
      "139                    Labrador Retriever    128\n",
      "9    American Pit Bull Mix / Pit Bull Mix    105\n",
      "140         Labrador Retriever Crossbreed    103\n",
      "10     American Pit Bull Terrier/Pit Bull     87\n",
      "179                            Pomeranian     74\n"
     ]
    }
   ],
   "source": [
    "import pandas as pd\n",
    "data_morsures = pd.read_csv('datas/DOHMH_Dog_Bite_Data.csv')\n",
    "data_Licenses = pd.read_csv('datas/NYC_Dog_Licensing_Dataset.csv', sep=\";\")\n",
    "\n",
    "join_data = pd.merge(data_morsures, data_Licenses, on='Unique Dog ID')\n",
    "\n",
    "spray_neuter_per_breed = join_data.groupby('BreedName')['SpayNeuter'].sum().reset_index(name='count').nlargest(10, 'count')\n",
    "\n",
    "print(spray_neuter_per_breed)"
   ]
  },
  {
   "cell_type": "code",
   "execution_count": 8,
   "metadata": {},
   "outputs": [
    {
     "name": "stdout",
     "output_type": "stream",
     "text": [
      "                        BreedName AnimalGender  count\n",
      "0                   Affenpinscher            M      4\n",
      "1                Airedale Terrier            F      4\n",
      "2                Airedale Terrier            M      1\n",
      "3                           Akita            F      4\n",
      "4                           Akita            M      6\n",
      "..                            ...          ...    ...\n",
      "433              Wire Fox Terrier            M     11\n",
      "434             Yorkshire Terrier            F    399\n",
      "435             Yorkshire Terrier            M    459\n",
      "436  Yorkshire Terrier Crossbreed            F     42\n",
      "437  Yorkshire Terrier Crossbreed            M     54\n",
      "\n",
      "[438 rows x 3 columns]\n"
     ]
    }
   ],
   "source": [
    "sexe_repartition_by_breedname = join_data.groupby(['BreedName', 'AnimalGender'])['Unique Dog ID'].count().reset_index(name='count')\n",
    "print(sexe_repartition_by_breedname)"
   ]
  },
  {
   "cell_type": "code",
   "execution_count": 9,
   "metadata": {},
   "outputs": [
    {
     "name": "stdout",
     "output_type": "stream",
     "text": [
      "['Shih Tzu' 'Labrador Retriever Crossbreed' 'Maltese' 'Yorkshire Terrier'\n",
      " 'American Pit Bull Terrier/Pit Bull' 'Cane Corso' 'Havanese'\n",
      " 'German Shepherd Dog' 'Siberian Husky' 'Chihuahua' 'Poodle, Standard'\n",
      " 'Poodle' 'Miniature Schnauzer' 'Jack Russell Terrier Crossbreed'\n",
      " 'Pointer' 'Cavalier King Charles Spaniel' 'Chihuahua Crossbreed'\n",
      " 'Unknown' 'West High White Terrier' 'Australian Cattledog'\n",
      " 'Schnauzer, Miniature' 'Irish Setter' 'Rottweiler' 'Jack Russell Terrier'\n",
      " 'Bull Dog, English' 'Bassett Hound' 'Australian Shepherd' 'Beagle'\n",
      " 'Miniature Pinscher' 'Golden Retriever' 'Pomeranian' 'Poodle, Miniature'\n",
      " 'American Pit Bull Mix / Pit Bull Mix' 'Saint Bernard'\n",
      " 'Beagle Crossbreed' 'Pug' 'German Shepherd Crossbreed'\n",
      " 'Staffordshire Bull Terrier' 'Schnauzer, Standard' 'Labrador Retriever'\n",
      " 'Schnauzer, Giant' 'Cocker Spaniel' 'Bichon Frise' 'Poodle Crossbreed'\n",
      " 'Dachshund' 'Polish Lowland Sheepdog' 'Belgian Malinois' 'Cairn Terrier'\n",
      " 'Dachshund, Long Haired Miniature' 'Labradoodle' 'Puggle'\n",
      " 'Collie, Border' 'Dachshund, Wirehaired' 'Boston Terrier' 'Lhasa Apso'\n",
      " 'Australian Silky Terrier' 'Akita' 'Maltipoo'\n",
      " 'American Staffordshire Terrier' 'Yorkshire Terrier Crossbreed'\n",
      " 'Dalmatian' 'Brittany' 'Papillon' 'Dachshund Crossbreed'\n",
      " 'Terrier Crossbreed' 'Weimaraner' 'Poodle, Toy' 'Cotton De Tulear'\n",
      " 'Silky Terrier' 'Pharoh hound' 'Shih Tzu Crossbreed' 'Bull Dog, French'\n",
      " 'Dachshund Smooth Coat' 'Briard' 'Australian Cattle Dog'\n",
      " 'Maltese Crossbreed' 'Dachshund Smooth Coat Miniature' 'French Bulldog'\n",
      " 'Boxer' 'Shiba Inu' 'Japanese Chin' 'Tibetan Spaniel' 'Tibetan Terrier'\n",
      " 'Collie Crossbreed' 'Harrier' 'West Highland White Terrier' 'Puli'\n",
      " 'Dachshund, Wirehaired, Miniature' 'Basset Hound Crossbreed' 'Vizsla'\n",
      " 'Rat Terrier' 'Gordon Setter' 'Schipperkee' 'Wheaton Terrier'\n",
      " 'Brussels Griffon' 'Bulldog' 'Basset Hound' 'Doberman Pinscher'\n",
      " 'Mastiff, Bull' 'American Eskimo dog' 'Pharaoh Hound'\n",
      " 'Welsh Corgi, Pembroke' 'Basenji' 'Pointer, German Shorthaired'\n",
      " 'Pembroke Welsh Corgi' 'English Setter' 'Chow Chow' 'Brittany Spaniel'\n",
      " 'Shar-Pei, Chinese' 'Terrier mix' 'Morkie' 'Bernese Mountain Dog'\n",
      " 'Pomeranian Crossbreed' 'Rhodesian Ridgeback' 'Airedale Terrier'\n",
      " 'Dachshund, Long Haired' 'Chinese Shar-Pei' 'Soft Coated Wheaten Terrier'\n",
      " 'Goldendoodle' 'Boxer Crossbreed' 'Rat Terrier Crossbreed'\n",
      " 'Pug Crossbreed' 'Border Terrier' 'Mastiff' 'Pekingese' 'Toy Fox Terrier'\n",
      " 'Great Dane' 'Wire Fox Terrier' 'Chesapeake Bay Retriever'\n",
      " 'Norfolk Terrier' 'Shetland Sheepdog' 'Border Collie'\n",
      " 'English Springer Spaniel' 'Newfoundland' 'American Bully'\n",
      " 'Belgian Sheepdog' 'Italian Greyhound' 'Catahoula Leopard Dog'\n",
      " 'Scottish Terrier' 'Lagotto Romagnolo' 'Japanese Chin/Spaniel'\n",
      " 'Alaskan Malamute' 'Collie' 'Affenpinscher' 'Bull Terrier'\n",
      " 'Portuguese Water Dog' 'Irish Terrier' 'Collie, Smooth Coat' 'Keeshond'\n",
      " 'Samoyed' 'Whippet' 'Russell Terrier' 'Pembroke Welsh Corgi Crossbreed'\n",
      " 'Cocker Spaniel Crossbreed' 'Greyhound' 'Miniature American Shepherd'\n",
      " 'Field Spaniel' 'Schnauzer Crossbreed' 'Siberian Husky Crossbreed'\n",
      " 'Great Pyrenees' 'Border Collie Crossbreed' 'Collie, Bearded'\n",
      " 'Collie, Rough Coat' 'Miniature Bull Terrier' 'Bichon Frise Crossbreed'\n",
      " 'American Foxhound' 'Manchester Terrier' 'Bouvier Des Flandres'\n",
      " 'Miniature Australian Shepherd' 'Akita Crossbreed'\n",
      " 'Anatolian Shepherd Dog' 'Norwich Terrier' 'Old English Sheepdog'\n",
      " 'Shepard Crossbreed' 'Coonhound, Treeing Walker' 'Redbone Coonhound'\n",
      " 'Jindo Dog, Korea' 'Bearded Collie' 'Mastiff, Old English'\n",
      " 'Treeing Walker Coonhound' 'German Shorthaired Pointer' 'Chinese Crested'\n",
      " 'Belgian Tervuren' 'Australian Terrier' 'Coton de Tulear'\n",
      " 'Bull Dog, American' 'German Wirehaired Pointer'\n",
      " 'Coonhound, Black and Tan' 'Spinone Italiano' 'Sussex Spaniel' 'Saluki'\n",
      " 'Norwegian Elkhound' 'Bullmastiff' 'Black and Tan Coonhound'\n",
      " 'Irish Wolfhound' 'American English Coonhound' 'Bolognese'\n",
      " 'Pyrenean Shepherd' 'English Cocker Spaniel' 'Bloodhound'\n",
      " 'Welsh Corgi, Cardigan' 'Jindo' 'Greater Swiss Mountain Dog'\n",
      " 'Rottweiler Crossbreed' 'German Spitz' 'Giant Schnauzer'\n",
      " 'Petit Basset Griffon Vendeen' 'Parson Russell Terrier' 'Lowchen'\n",
      " 'Skye Terrier' 'Bedlington Terrier' 'Welsh Springer Spaniel'\n",
      " 'Schnauzer, Miniature Crossbreed' 'Shiba Inu Crossbreed' 'Welsh Terrier'\n",
      " 'Australian Kelpie' 'English Foxhound' 'Coonhound, Blue Tick'\n",
      " 'Curly-Coated Retriever' 'Polish Hound' 'Chinook' 'Borzoi'\n",
      " 'Dutch Shepherd' 'Plott' 'Smooth Fox Terrier' 'Biewer Terrier'\n",
      " 'Canaan Dog' 'Bluetick Coonhound' 'Russian Wolfhound'\n",
      " 'Mastiff, Neapolitan' 'Pointer, German Wirehaired' 'Japanese Spitz'\n",
      " 'Kerry Blue Terrier' 'French Spaniel' 'Black Russian Terrier'\n",
      " 'Perro de Presa Canario' 'Brussels Griffon Crossbreed' 'Schipperke'\n",
      " 'Cockapoo' 'Cesky Terrier' 'Boerboel' 'Dandie Dinmont Terrier'\n",
      " 'German Pinscher' 'Nova Scotia Duck Tolling Retriever'\n",
      " 'Bloodhound Crossbreed' 'Berger Picard' 'Ibizan Hound']\n"
     ]
    }
   ],
   "source": [
    "import pandas as pd\n",
    "data_morsures = pd.read_csv('datas/DOHMH_Dog_Bite_Data.csv')\n",
    "data_Licenses = pd.read_csv('datas/NYC_Dog_Licensing_Dataset.csv', sep=\";\")\n",
    "\n",
    "join_data = pd.merge(data_morsures, data_Licenses, on='Unique Dog ID')\n",
    "\n",
    "dict_breedname = join_data['BreedName'].unique()\n",
    "\n",
    "print(dict_breedname)"
   ]
  },
  {
   "cell_type": "code",
   "execution_count": 12,
   "metadata": {},
   "outputs": [
    {
     "name": "stdout",
     "output_type": "stream",
     "text": [
      "   YearsLicenseIssue MonthsLicenseIssue  counts\n",
      "0               2017                 01    6626\n",
      "1               2017                 02    6895\n",
      "2               2017                 03    9398\n",
      "3               2017                 04    8417\n",
      "4               2017                 05    9821\n",
      "5               2017                 06   10151\n",
      "6               2017                 07   10851\n",
      "7               2017                 08   11415\n",
      "8               2017                 09   11625\n",
      "9               2017                 10    9462\n",
      "10              2017                 11    7915\n",
      "11              2017                 12    8419\n"
     ]
    }
   ],
   "source": [
    "\n",
    "data_Licenses[['DaysLicenseIssue', 'MonthsLicenseIssue', 'YearsLicenseIssue']] = data_Licenses.LicenseIssuedDate.str.split(\"/\", expand = True)\n",
    "\n",
    "count_Licenses = data_Licenses[data_Licenses['YearsLicenseIssue'].isin(['2017'])].groupby(['YearsLicenseIssue', 'MonthsLicenseIssue']).size().reset_index(name='counts')\n",
    "\n",
    "print(count_Licenses)"
   ]
  },
  {
   "cell_type": "code",
   "execution_count": 30,
   "metadata": {},
   "outputs": [
    {
     "name": "stdout",
     "output_type": "stream",
     "text": [
      "             counts  Cumulative_Count\n",
      "Quarter_new                          \n",
      "3 mois        34442             34442\n",
      "6 mois        70526            104968\n",
      "9 mois        78315            183283\n",
      "12 mois       67562            250845\n"
     ]
    },
    {
     "name": "stderr",
     "output_type": "stream",
     "text": [
      "C:\\Users\\Brian\\AppData\\Local\\Temp\\ipykernel_50220\\268340976.py:8: FutureWarning: The default value of numeric_only in DataFrameGroupBy.sum is deprecated. In a future version, numeric_only will default to False. Either specify numeric_only or select only columns which should be valid for the function.\n",
      "  count_Licenses = count_Licenses.groupby('Quarter_new').sum()\n"
     ]
    }
   ],
   "source": [
    "bins = [0, 3, 6, 9, 12]\n",
    "labels = ['3 mois', '6 mois', '9 mois', '12 mois']\n",
    "\n",
    "data_Licenses[['DaysLicenseIssue', 'MonthsLicenseIssue', 'YearsLicenseIssue']] = data_Licenses.LicenseIssuedDate.str.split(\"/\", expand = True)\n",
    "count_Licenses = data_Licenses[data_Licenses['YearsLicenseIssue'].isin(['2015','2016','2017'])].groupby('MonthsLicenseIssue').size().reset_index(name='counts')\n",
    "count_Licenses['Quarter'] = pd.cut(count_Licenses['MonthsLicenseIssue'].astype(int), bins=bins, labels=labels, right=False)\n",
    "count_Licenses.rename(columns={'Quarter': 'Quarter_new'}, inplace=True)\n",
    "count_Licenses = count_Licenses.groupby('Quarter_new').sum()\n",
    "count_Licenses['Cumulative_Count'] = count_Licenses['counts'].cumsum()\n",
    "print(count_Licenses)"
   ]
  },
  {
   "cell_type": "code",
   "execution_count": 19,
   "metadata": {},
   "outputs": [
    {
     "name": "stdout",
     "output_type": "stream",
     "text": [
      "         MonthsLicenseIssue  counts  Quarter  Cumulative_Count\n",
      "Quarter                                                       \n",
      "3 mois                    3   22919   3 mois             22919\n",
      "6 mois                   12   28389   6 mois             51308\n",
      "9 mois                   21   33891   9 mois             85199\n",
      "12 mois                  30   25796  12 mois            110995\n"
     ]
    }
   ],
   "source": [
    "import pandas as pd\n",
    "data_morsures = pd.read_csv('datas/DOHMH_Dog_Bite_Data.csv')\n",
    "data_Licenses = pd.read_csv('datas/NYC_Dog_Licensing_Dataset.csv', sep=\";\")\n",
    "\n",
    "bins = [0, 3, 6, 9, 12]\n",
    "labels = ['3 mois', '6 mois', '9 mois', '12 mois']\n",
    "\n",
    "data_Licenses[['DaysLicenseIssue', 'MonthsLicenseIssue', 'YearsLicenseIssue']] = data_Licenses.LicenseIssuedDate.str.split(\"/\", expand = True)\n",
    "count_Licenses = data_Licenses[data_Licenses['YearsLicenseIssue'].isin(['2017'])].groupby('MonthsLicenseIssue').size().reset_index(name='counts')\n",
    "count_Licenses['MonthsLicenseIssue'] = count_Licenses['MonthsLicenseIssue'].astype(int) - 1\n",
    "count_Licenses['Quarter'] = pd.cut(count_Licenses['MonthsLicenseIssue'], bins=bins, labels=labels, right=False)\n",
    "count_Licenses = count_Licenses.groupby('Quarter').sum()\n",
    "count_Licenses['Quarter'] = labels\n",
    "count_Licenses['Cumulative_Count'] = count_Licenses['counts'].cumsum()\n",
    "print(count_Licenses)\n"
   ]
  },
  {
   "cell_type": "code",
   "execution_count": 37,
   "metadata": {},
   "outputs": [
    {
     "name": "stdout",
     "output_type": "stream",
     "text": [
      "   Quarter  count  cumul\n",
      "0   3 mois   12.6   12.6\n",
      "1   6 mois   12.6   25.2\n",
      "2   9 mois   12.7   37.9\n",
      "3  12 mois   12.5   50.4\n"
     ]
    }
   ],
   "source": [
    "data_morsures['MonthsOfBite']= pd.to_datetime(data_morsures['MonthsOfBite'],format='%B')\n",
    "data_morsures[\"month_num\"] = data_morsures[\"MonthsOfBite\"].dt.month\n",
    "\n",
    "\n",
    "bins = [0, 3, 6, 9, 12]\n",
    "labels = ['3 mois', '6 mois', '9 mois', '12 mois']\n",
    "data_morsures['Quarter'] = pd.cut(data_morsures['month_num'], bins=bins, labels=labels, right=False)\n",
    "\n",
    "age_mean = data_morsures[data_morsures['YearsOfBite'].isin(['2017'])].groupby('Quarter')['Age'].mean().reset_index(name='count')\n",
    "age_mean = round(age_mean, 1)\n",
    "age_mean['cumul'] = age_mean['count'].cumsum()\n",
    "\n",
    "print(age_mean)\n"
   ]
  },
  {
   "cell_type": "code",
   "execution_count": 50,
   "metadata": {},
   "outputs": [
    {
     "name": "stdout",
     "output_type": "stream",
     "text": [
      "                        BreedName AnimalGender  count\n",
      "0                   Affenpinscher            M      1\n",
      "1                Airedale Terrier            F      1\n",
      "2                           Akita            F      2\n",
      "3                Akita Crossbreed            M      3\n",
      "4                Alaskan Malamute            M      1\n",
      "..                            ...          ...    ...\n",
      "332              Wire Fox Terrier            M      4\n",
      "333             Yorkshire Terrier            F    141\n",
      "334             Yorkshire Terrier            M    177\n",
      "335  Yorkshire Terrier Crossbreed            F     17\n",
      "336  Yorkshire Terrier Crossbreed            M     19\n",
      "\n",
      "[337 rows x 3 columns]\n"
     ]
    }
   ],
   "source": [
    "join_data = pd.merge(data_morsures, data_Licenses, on='Unique Dog ID')\n",
    "\n",
    "join_data[['MonthsOfBite', 'DaysOfBite', 'YearsOfBite']] = join_data.DateOfBite.str.split(\" \", expand = True)\n",
    "\n",
    "joined_data = join_data[join_data['YearsOfBite'] == '2017']\n",
    "\n",
    "dict_breedname = joined_data['BreedName'].unique()\n",
    "\n",
    "sexe_repartition_by_breedname = joined_data.groupby(['BreedName', 'AnimalGender'])['Unique Dog ID'].count().reset_index(name='count')\n",
    "\n",
    "print(sexe_repartition_by_breedname)"
   ]
  },
  {
   "cell_type": "code",
   "execution_count": 63,
   "metadata": {},
   "outputs": [
    {
     "name": "stdout",
     "output_type": "stream",
     "text": [
      "YearsOfBite  MonthsOfBite\n",
      "2017         April           12.475524\n",
      "             August          12.521008\n",
      "             December        12.724280\n",
      "             February        12.510460\n",
      "             January         12.728972\n",
      "             July            12.659898\n",
      "             June            12.822888\n",
      "             March           12.448819\n",
      "             May             12.784314\n",
      "             November        12.665289\n",
      "             October         12.594306\n",
      "             September       12.268293\n",
      "Name: Age, dtype: float64\n"
     ]
    }
   ],
   "source": [
    "# Création d'une colonne avec l'année actuelle \n",
    "data_morsures['Current_Year'] = datetime.now().year\n",
    "\n",
    "# Création d'une colonne âge, avec le calcule de l'âge du chien \n",
    "data_morsures['Age'] = data_morsures['Current_Year'] - data_morsures['AnimalBirthMonth']\n",
    "\n",
    "# Calcule de la moyenne d'âge par an \n",
    "age_moyen = data_morsures[data_morsures['YearsOfBite'].isin(['2017'])].groupby(['YearsOfBite', 'MonthsOfBite'])[\"Age\"].mean()\n",
    "\n",
    "print(age_moyen)"
   ]
  }
 ],
 "metadata": {
  "kernelspec": {
   "display_name": "Python 3",
   "language": "python",
   "name": "python3"
  },
  "language_info": {
   "codemirror_mode": {
    "name": "ipython",
    "version": 3
   },
   "file_extension": ".py",
   "mimetype": "text/x-python",
   "name": "python",
   "nbconvert_exporter": "python",
   "pygments_lexer": "ipython3",
   "version": "3.11.1 (tags/v3.11.1:a7a450f, Dec  6 2022, 19:58:39) [MSC v.1934 64 bit (AMD64)]"
  },
  "orig_nbformat": 4,
  "vscode": {
   "interpreter": {
    "hash": "16d48ab8815dff4b6f48d0f416a4684b0cce89c2e7252ff1f2f3c45532505d42"
   }
  }
 },
 "nbformat": 4,
 "nbformat_minor": 2
}
